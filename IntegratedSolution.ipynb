{
 "cells": [
  {
   "cell_type": "code",
   "execution_count": 1,
   "id": "8eddf106-fd28-48e9-8eaf-cf91596c1071",
   "metadata": {},
   "outputs": [],
   "source": [
    "%run stdPackages.ipynb"
   ]
  },
  {
   "cell_type": "markdown",
   "id": "fe1e8a53-bd0d-4460-9402-4a582be08333",
   "metadata": {},
   "source": [
    "# Iterative solution"
   ]
  },
  {
   "cell_type": "markdown",
   "id": "40804310-95bf-4ef8-8505-c4519055f0e6",
   "metadata": {},
   "source": [
    "*Set up exogenous parameters:*"
   ]
  },
  {
   "cell_type": "code",
   "execution_count": 2,
   "id": "fb85dce8-cb54-4dc0-98bc-624629c5e101",
   "metadata": {},
   "outputs": [],
   "source": [
    "m = egm.EGM() # initialize model with default parameters\n",
    "tIndex = pd.Index(range(2017,2017+m.T+1), name = 'Year') # yearly index\n",
    "A = m.technologyIndex() # get technology index given parameter values in model 'm'\n",
    "z = np.zeros(m.T) # exogenous quotas\n",
    "z[0:41] = np.linspace(2-0.0383*(2017-2013), 0, 41) # zero after 2057\n",
    "ξPreReform = np.ones(m.T)\n",
    "ξPostReform = np.ones(m.T)\n",
    "ξPostReform[1:6] = 2 # double in years 2018-2022\n",
    "b0, m0 = 1.694, 1.55"
   ]
  },
  {
   "cell_type": "markdown",
   "id": "83c0de1e-fa4e-4e62-bc5f-4e2cc219a9ea",
   "metadata": {},
   "source": [
    "Solution to prereform model:"
   ]
  },
  {
   "cell_type": "code",
   "execution_count": 3,
   "id": "ae9976fc-a6cc-4613-bce8-45560cde59fa",
   "metadata": {},
   "outputs": [
    {
     "name": "stdout",
     "output_type": "stream",
     "text": [
      "Solution converged after 6 iterations\n"
     ]
    }
   ],
   "source": [
    "tol, maxIter = 1e-6, 500\n",
    "sol, sim, solETS = m.solveWithETS(z, b0, m0, ξPreReform, A, 'preReform',tol, maxIter)"
   ]
  },
  {
   "cell_type": "markdown",
   "id": "a9f268cd-b2fb-4157-bfcb-f570c372e730",
   "metadata": {},
   "source": [
    "Solution to postreform model:"
   ]
  },
  {
   "cell_type": "code",
   "execution_count": 4,
   "id": "80561f5b-6161-452d-9841-8caece599050",
   "metadata": {},
   "outputs": [
    {
     "name": "stdout",
     "output_type": "stream",
     "text": [
      "Solution converged after 6 iterations\n"
     ]
    }
   ],
   "source": [
    "solP, simP, solETSP = m.solveWithETS(z, b0, m0, ξPostReform, A, 'postReform',tol, maxIter)"
   ]
  },
  {
   "cell_type": "markdown",
   "id": "0bd67379-998b-446b-9839-a1a6a7df3938",
   "metadata": {},
   "source": [
    "Solution to postreform model:"
   ]
  },
  {
   "cell_type": "code",
   "execution_count": 60,
   "id": "827a413c-c785-4d46-84c3-5499a0641ede",
   "metadata": {},
   "outputs": [
    {
     "name": "stdout",
     "output_type": "stream",
     "text": [
      "Solution converged after 6 iterations\n"
     ]
    }
   ],
   "source": [
    "m.α = 0.2\n",
    "solP, simP, solETSP = m.solveWithETS(z, b0, m0, ξPostReform, A, 'postReform',tol, maxIter)"
   ]
  },
  {
   "cell_type": "markdown",
   "id": "23ae5e94-afe2-4067-9389-9367029b0058",
   "metadata": {},
   "source": [
    "Print:"
   ]
  },
  {
   "cell_type": "code",
   "execution_count": 61,
   "id": "3ad8f94b-e495-4387-babb-ae3f9961f354",
   "metadata": {},
   "outputs": [
    {
     "data": {
      "text/plain": [
       "<AxesSubplot:>"
      ]
     },
     "execution_count": 61,
     "metadata": {},
     "output_type": "execute_result"
    },
    {
     "data": {
      "image/png": "[encoded data removed]",
      "text/plain": [
       "<Figure size 576x396 with 1 Axes>"
      ]
     },
     "metadata": {},
     "output_type": "display_data"
    }
   ],
   "source": [
    "pd.Series(simP[1]).plot()"
   ]
  }
 ],
 "metadata": {
  "kernelspec": {
   "display_name": "Python 3 (ipykernel)",
   "language": "python",
   "name": "python3"
  },
  "language_info": {
   "codemirror_mode": {
    "name": "ipython",
    "version": 3
   },
   "file_extension": ".py",
   "mimetype": "text/x-python",
   "name": "python",
   "nbconvert_exporter": "python",
   "pygments_lexer": "ipython3",
   "version": "3.9.7"
  }
 },
 "nbformat": 4,
 "nbformat_minor": 5
}
