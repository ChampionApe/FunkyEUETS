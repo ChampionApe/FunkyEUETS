{
 "cells": [
  {
   "cell_type": "code",
   "execution_count": 1,
   "id": "b0869e60-245e-4bed-9e3c-463febc67660",
   "metadata": {},
   "outputs": [],
   "source": [
    "%run stdPackages.ipynb"
   ]
  },
  {
   "cell_type": "markdown",
   "id": "f5c838f7-5112-4e28-995e-691fd613c714",
   "metadata": {},
   "source": [
    "# EGM algorithm"
   ]
  },
  {
   "cell_type": "markdown",
   "id": "e59ccf54-88cf-4d73-8e23-2429102ea3bf",
   "metadata": {},
   "source": [
    "This notebook tests the stand-alone EGM algorithm used to solve the firms problem *given* a path of exogenous quoatas."
   ]
  },
  {
   "cell_type": "markdown",
   "id": "72207d4f-ff38-45dc-a6d7-3c4329c30812",
   "metadata": {},
   "source": [
    "*Use default parameter settings:*"
   ]
  },
  {
   "cell_type": "code",
   "execution_count": 2,
   "id": "914c59fe-6edf-43d5-9a9a-0c7d1d62067a",
   "metadata": {},
   "outputs": [],
   "source": [
    "m = egm.EGM()"
   ]
  },
  {
   "cell_type": "markdown",
   "id": "464dab76-a0b1-44d0-affb-2c6dc9b6f4ba",
   "metadata": {},
   "source": [
    "*Get technology index:*"
   ]
  },
  {
   "cell_type": "code",
   "execution_count": 3,
   "id": "7c596b86-f229-4f1f-943f-b342f64ed538",
   "metadata": {},
   "outputs": [],
   "source": [
    "A = m.technologyIndex()"
   ]
  },
  {
   "cell_type": "markdown",
   "id": "22b0fc79-8144-4bf3-bd84-529ca2cce3eb",
   "metadata": {},
   "source": [
    "*Provide an exogenous path of quotas initially:*"
   ]
  },
  {
   "cell_type": "code",
   "execution_count": 4,
   "id": "26e44395-1be6-4b85-856a-162ec2e68564",
   "metadata": {},
   "outputs": [],
   "source": [
    "z = np.zeros(m.T)\n",
    "z[0:41] = np.linspace(2-0.0383*(2017-2013), 0, 41) # zero after 2057\n",
    "ξ = np.ones(m.T)\n",
    "b0 = 1.694"
   ]
  },
  {
   "cell_type": "markdown",
   "id": "133e7d56-f737-4521-a015-696d8e8f7e70",
   "metadata": {},
   "source": [
    "*Identify policy functions. Then simulate from this:*"
   ]
  },
  {
   "cell_type": "code",
   "execution_count": 5,
   "id": "8303c5e0-a513-4380-b28d-47b7be165ca0",
   "metadata": {},
   "outputs": [
    {
     "name": "stdout",
     "output_type": "stream",
     "text": [
      "The slowest run took 5.30 times longer than the fastest. This could mean that an intermediate result is being cached.\n",
      "1.63 ms ± 1.44 ms per loop (mean ± std. dev. of 7 runs, 1 loop each)\n"
     ]
    }
   ],
   "source": [
    "%%timeit\n",
    "b,e,p = m.solve(A,z)\n",
    "bSim, eSim, pSim = m.sim(b,e,p,A,z,b0)"
   ]
  },
  {
   "cell_type": "markdown",
   "id": "e6d21e01-3375-4bdc-8ff5-98885a91fb76",
   "metadata": {},
   "source": [
    "### Solution after the functions have been jitted:"
   ]
  },
  {
   "cell_type": "markdown",
   "id": "ee6cdaca-5131-4d4a-ade2-5312462342ab",
   "metadata": {},
   "source": [
    "*If we just change an input, e.g. the exogenous path for quotas*"
   ]
  },
  {
   "cell_type": "code",
   "execution_count": 6,
   "id": "4465230f-4a5d-41e6-b5ec-d7a1cb5aa477",
   "metadata": {},
   "outputs": [
    {
     "name": "stdout",
     "output_type": "stream",
     "text": [
      "635 µs ± 29.4 µs per loop (mean ± std. dev. of 7 runs, 1000 loops each)\n"
     ]
    }
   ],
   "source": [
    "%%timeit\n",
    "b,e,p = m.solve(A, z/2)\n",
    "bSim, eSim, pSim = m.sim(b,e,p,A,z/2, b0)"
   ]
  },
  {
   "cell_type": "markdown",
   "id": "3ec670bd-0d04-4021-9604-9f5615e71284",
   "metadata": {},
   "source": [
    "*If we change a parameter value things are still very fast:*"
   ]
  },
  {
   "cell_type": "code",
   "execution_count": 7,
   "id": "a7b76b53-ce87-4aaa-848f-0272b27f591a",
   "metadata": {},
   "outputs": [
    {
     "name": "stdout",
     "output_type": "stream",
     "text": [
      "671 µs ± 26.4 µs per loop (mean ± std. dev. of 7 runs, 1000 loops each)\n"
     ]
    }
   ],
   "source": [
    "%%timeit\n",
    "m.α = 0.25\n",
    "b,e,p = m.solve(A,z)\n",
    "bSim, eSim, pSim = m.sim(b,e,p,A,z,b0)"
   ]
  },
  {
   "cell_type": "markdown",
   "id": "95ec0f01-dbd5-4c86-a353-01608fc4f295",
   "metadata": {},
   "source": [
    "### Print some of the results:"
   ]
  },
  {
   "cell_type": "markdown",
   "id": "ade16066-eefe-48d3-9ad7-f9084e609609",
   "metadata": {},
   "source": [
    "Solve the model on a grid of $\\alpha$ values. Plot the resulting solution for b,e,p:"
   ]
  },
  {
   "cell_type": "code",
   "execution_count": 8,
   "id": "ba1e0998-d58e-45a4-a8b7-d69463788dae",
   "metadata": {},
   "outputs": [
    {
     "ename": "ValueError",
     "evalue": "array of sample points is empty",
     "output_type": "error",
     "traceback": [
      "\u001b[1;31m---------------------------------------------------------------------------\u001b[0m",
      "\u001b[1;31mValueError\u001b[0m                                Traceback (most recent call last)",
      "\u001b[1;32m~\\AppData\\Local\\Temp/ipykernel_11720/717022770.py\u001b[0m in \u001b[0;36m<module>\u001b[1;34m\u001b[0m\n\u001b[0;32m      5\u001b[0m     \u001b[0mm\u001b[0m\u001b[1;33m.\u001b[0m\u001b[0mα\u001b[0m \u001b[1;33m=\u001b[0m \u001b[0mαs\u001b[0m\u001b[1;33m[\u001b[0m\u001b[0mi\u001b[0m\u001b[1;33m]\u001b[0m\u001b[1;33m\u001b[0m\u001b[1;33m\u001b[0m\u001b[0m\n\u001b[0;32m      6\u001b[0m     \u001b[0mb\u001b[0m\u001b[1;33m,\u001b[0m\u001b[0me\u001b[0m\u001b[1;33m,\u001b[0m\u001b[0mp\u001b[0m \u001b[1;33m=\u001b[0m \u001b[0mm\u001b[0m\u001b[1;33m.\u001b[0m\u001b[0msolve\u001b[0m\u001b[1;33m(\u001b[0m\u001b[0mA\u001b[0m\u001b[1;33m,\u001b[0m\u001b[0mz\u001b[0m\u001b[1;33m)\u001b[0m\u001b[1;33m\u001b[0m\u001b[1;33m\u001b[0m\u001b[0m\n\u001b[1;32m----> 7\u001b[1;33m     \u001b[0mbs\u001b[0m\u001b[1;33m[\u001b[0m\u001b[0mi\u001b[0m\u001b[1;33m]\u001b[0m\u001b[1;33m,\u001b[0m \u001b[0mes\u001b[0m\u001b[1;33m[\u001b[0m\u001b[0mi\u001b[0m\u001b[1;33m]\u001b[0m\u001b[1;33m,\u001b[0m \u001b[0mps\u001b[0m\u001b[1;33m[\u001b[0m\u001b[0mi\u001b[0m\u001b[1;33m]\u001b[0m \u001b[1;33m=\u001b[0m \u001b[0mm\u001b[0m\u001b[1;33m.\u001b[0m\u001b[0msim\u001b[0m\u001b[1;33m(\u001b[0m\u001b[0mb\u001b[0m\u001b[1;33m,\u001b[0m\u001b[0me\u001b[0m\u001b[1;33m,\u001b[0m\u001b[0mp\u001b[0m\u001b[1;33m,\u001b[0m\u001b[0mA\u001b[0m\u001b[1;33m,\u001b[0m\u001b[0mz\u001b[0m\u001b[1;33m,\u001b[0m\u001b[0mb0\u001b[0m\u001b[1;33m)\u001b[0m\u001b[1;33m\u001b[0m\u001b[1;33m\u001b[0m\u001b[0m\n\u001b[0m\u001b[0;32m      8\u001b[0m \u001b[0mbs\u001b[0m \u001b[1;33m=\u001b[0m \u001b[0mpd\u001b[0m\u001b[1;33m.\u001b[0m\u001b[0mDataFrame\u001b[0m\u001b[1;33m(\u001b[0m\u001b[1;33m{\u001b[0m\u001b[1;34mf\"$\\\\alpha$ = {αs[i]}\"\u001b[0m\u001b[1;33m:\u001b[0m \u001b[0mbs\u001b[0m\u001b[1;33m[\u001b[0m\u001b[0mi\u001b[0m\u001b[1;33m]\u001b[0m \u001b[1;32mfor\u001b[0m \u001b[0mi\u001b[0m \u001b[1;32min\u001b[0m \u001b[0mrange\u001b[0m\u001b[1;33m(\u001b[0m\u001b[0mlen\u001b[0m\u001b[1;33m(\u001b[0m\u001b[0mbs\u001b[0m\u001b[1;33m)\u001b[0m\u001b[1;33m)\u001b[0m\u001b[1;33m}\u001b[0m\u001b[1;33m,\u001b[0m \u001b[0mindex\u001b[0m \u001b[1;33m=\u001b[0m \u001b[0mpd\u001b[0m\u001b[1;33m.\u001b[0m\u001b[0mIndex\u001b[0m\u001b[1;33m(\u001b[0m\u001b[0mrange\u001b[0m\u001b[1;33m(\u001b[0m\u001b[1;36m0\u001b[0m\u001b[1;33m,\u001b[0m\u001b[0mm\u001b[0m\u001b[1;33m.\u001b[0m\u001b[0mT\u001b[0m\u001b[1;33m+\u001b[0m\u001b[1;36m1\u001b[0m\u001b[1;33m)\u001b[0m\u001b[1;33m,\u001b[0m \u001b[0mname\u001b[0m \u001b[1;33m=\u001b[0m \u001b[1;34m't'\u001b[0m\u001b[1;33m)\u001b[0m\u001b[1;33m)\u001b[0m\u001b[1;33m\u001b[0m\u001b[1;33m\u001b[0m\u001b[0m\n\u001b[0;32m      9\u001b[0m \u001b[0mes\u001b[0m \u001b[1;33m=\u001b[0m \u001b[0mpd\u001b[0m\u001b[1;33m.\u001b[0m\u001b[0mDataFrame\u001b[0m\u001b[1;33m(\u001b[0m\u001b[1;33m{\u001b[0m\u001b[1;34mf\"$\\\\alpha$ = {αs[i]}\"\u001b[0m\u001b[1;33m:\u001b[0m \u001b[0mes\u001b[0m\u001b[1;33m[\u001b[0m\u001b[0mi\u001b[0m\u001b[1;33m]\u001b[0m \u001b[1;32mfor\u001b[0m \u001b[0mi\u001b[0m \u001b[1;32min\u001b[0m \u001b[0mrange\u001b[0m\u001b[1;33m(\u001b[0m\u001b[0mlen\u001b[0m\u001b[1;33m(\u001b[0m\u001b[0mes\u001b[0m\u001b[1;33m)\u001b[0m\u001b[1;33m)\u001b[0m\u001b[1;33m}\u001b[0m\u001b[1;33m,\u001b[0m \u001b[0mindex\u001b[0m \u001b[1;33m=\u001b[0m \u001b[0mpd\u001b[0m\u001b[1;33m.\u001b[0m\u001b[0mIndex\u001b[0m\u001b[1;33m(\u001b[0m\u001b[0mrange\u001b[0m\u001b[1;33m(\u001b[0m\u001b[1;36m0\u001b[0m\u001b[1;33m,\u001b[0m\u001b[0mm\u001b[0m\u001b[1;33m.\u001b[0m\u001b[0mT\u001b[0m\u001b[1;33m)\u001b[0m\u001b[1;33m,\u001b[0m \u001b[0mname\u001b[0m \u001b[1;33m=\u001b[0m \u001b[1;34m't'\u001b[0m\u001b[1;33m)\u001b[0m\u001b[1;33m)\u001b[0m\u001b[1;33m\u001b[0m\u001b[1;33m\u001b[0m\u001b[0m\n",
      "\u001b[1;32m~\\Anaconda3\\lib\\site-packages\\numba\\experimental\\jitclass\\boxing.py\u001b[0m in \u001b[0;36mwrapper\u001b[1;34m(*args, **kwargs)\u001b[0m\n\u001b[0;32m     57\u001b[0m     \u001b[1;33m@\u001b[0m\u001b[0mwraps\u001b[0m\u001b[1;33m(\u001b[0m\u001b[0mfunc\u001b[0m\u001b[1;33m)\u001b[0m\u001b[1;33m\u001b[0m\u001b[1;33m\u001b[0m\u001b[0m\n\u001b[0;32m     58\u001b[0m     \u001b[1;32mdef\u001b[0m \u001b[0mwrapper\u001b[0m\u001b[1;33m(\u001b[0m\u001b[1;33m*\u001b[0m\u001b[0margs\u001b[0m\u001b[1;33m,\u001b[0m \u001b[1;33m**\u001b[0m\u001b[0mkwargs\u001b[0m\u001b[1;33m)\u001b[0m\u001b[1;33m:\u001b[0m\u001b[1;33m\u001b[0m\u001b[1;33m\u001b[0m\u001b[0m\n\u001b[1;32m---> 59\u001b[1;33m         \u001b[1;32mreturn\u001b[0m \u001b[0mmethod\u001b[0m\u001b[1;33m(\u001b[0m\u001b[1;33m*\u001b[0m\u001b[0margs\u001b[0m\u001b[1;33m,\u001b[0m \u001b[1;33m**\u001b[0m\u001b[0mkwargs\u001b[0m\u001b[1;33m)\u001b[0m\u001b[1;33m\u001b[0m\u001b[1;33m\u001b[0m\u001b[0m\n\u001b[0m\u001b[0;32m     60\u001b[0m \u001b[1;33m\u001b[0m\u001b[0m\n\u001b[0;32m     61\u001b[0m     \u001b[1;32mreturn\u001b[0m \u001b[0mwrapper\u001b[0m\u001b[1;33m\u001b[0m\u001b[1;33m\u001b[0m\u001b[0m\n",
      "\u001b[1;32m~\\Anaconda3\\lib\\site-packages\\numba\\np\\arraymath.py\u001b[0m in \u001b[0;36mimpl\u001b[1;34m()\u001b[0m\n\u001b[0;32m   2483\u001b[0m \u001b[1;33m\u001b[0m\u001b[0m\n\u001b[0;32m   2484\u001b[0m         \u001b[1;32mif\u001b[0m \u001b[0mlen\u001b[0m\u001b[1;33m(\u001b[0m\u001b[0mdx\u001b[0m\u001b[1;33m)\u001b[0m \u001b[1;33m==\u001b[0m \u001b[1;36m0\u001b[0m\u001b[1;33m:\u001b[0m\u001b[1;33m\u001b[0m\u001b[1;33m\u001b[0m\u001b[0m\n\u001b[1;32m-> 2485\u001b[1;33m             \u001b[1;32mraise\u001b[0m \u001b[0mValueError\u001b[0m\u001b[1;33m(\u001b[0m\u001b[1;34m'array of sample points is empty'\u001b[0m\u001b[1;33m)\u001b[0m\u001b[1;33m\u001b[0m\u001b[1;33m\u001b[0m\u001b[0m\n\u001b[0m\u001b[0;32m   2486\u001b[0m \u001b[1;33m\u001b[0m\u001b[0m\n\u001b[0;32m   2487\u001b[0m         \u001b[1;32mif\u001b[0m \u001b[0mlen\u001b[0m\u001b[1;33m(\u001b[0m\u001b[0mdx\u001b[0m\u001b[1;33m)\u001b[0m \u001b[1;33m!=\u001b[0m \u001b[0mlen\u001b[0m\u001b[1;33m(\u001b[0m\u001b[0mdy\u001b[0m\u001b[1;33m)\u001b[0m\u001b[1;33m:\u001b[0m\u001b[1;33m\u001b[0m\u001b[1;33m\u001b[0m\u001b[0m\n",
      "\u001b[1;31mValueError\u001b[0m: array of sample points is empty"
     ]
    }
   ],
   "source": [
    "m.globalMaxB = 100\n",
    "αs = [0.15, 0.2, 0.25]\n",
    "bs, es, ps = {},{},{}\n",
    "for i in range(len(αs)):\n",
    "    m.α = αs[i]\n",
    "    b,e,p = m.solve(A,z)\n",
    "    bs[i], es[i], ps[i] = m.sim(b,e,p,A,z,b0)\n",
    "bs = pd.DataFrame({f\"$\\\\alpha$ = {αs[i]}\": bs[i] for i in range(len(bs))}, index = pd.Index(range(0,m.T+1), name = 't'))\n",
    "es = pd.DataFrame({f\"$\\\\alpha$ = {αs[i]}\": es[i] for i in range(len(es))}, index = pd.Index(range(0,m.T), name = 't'))\n",
    "ps = pd.DataFrame({f\"$\\\\alpha$ = {αs[i]}\": ps[i] for i in range(len(ps))}, index = pd.Index(range(0,m.T), name = 't'))"
   ]
  },
  {
   "cell_type": "markdown",
   "id": "c8d875b4-bbf8-4326-a6f3-fb0e4652c5d5",
   "metadata": {},
   "source": [
    "*Plot:*"
   ]
  },
  {
   "cell_type": "code",
   "execution_count": null,
   "id": "a27f3e4d-e102-45c9-93db-60c75da80ebc",
   "metadata": {},
   "outputs": [],
   "source": [
    "bs.plot()"
   ]
  },
  {
   "cell_type": "code",
   "execution_count": null,
   "id": "0dd6d230-0bf0-4de6-aa4c-0ea7ae5960cc",
   "metadata": {},
   "outputs": [],
   "source": [
    "es.plot()"
   ]
  },
  {
   "cell_type": "code",
   "execution_count": null,
   "id": "5d647ca1-b2a9-470d-a06e-cf00f3e48631",
   "metadata": {},
   "outputs": [],
   "source": [
    "ps.plot()"
   ]
  }
 ],
 "metadata": {
  "kernelspec": {
   "display_name": "Python 3 (ipykernel)",
   "language": "python",
   "name": "python3"
  },
  "language_info": {
   "codemirror_mode": {
    "name": "ipython",
    "version": 3
   },
   "file_extension": ".py",
   "mimetype": "text/x-python",
   "name": "python",
   "nbconvert_exporter": "python",
   "pygments_lexer": "ipython3",
   "version": "3.9.7"
  }
 },
 "nbformat": 4,
 "nbformat_minor": 5
}
