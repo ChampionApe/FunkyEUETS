{
 "cells": [
  {
   "cell_type": "markdown",
   "id": "ee52ea21-5e98-4b69-a03e-c3ae45afc7d5",
   "metadata": {},
   "source": [
    "*Standard packages:*"
   ]
  },
  {
   "cell_type": "code",
   "execution_count": 1,
   "id": "0bdbcf2e-76b0-4417-bdfd-6656aed8fcf0",
   "metadata": {},
   "outputs": [],
   "source": [
    "import os, pandas as pd, numpy as np, pickle, numba, seaborn, matplotlib as mpl, matplotlib.pyplot as plt, scipy\n",
    "import matplotlib as mpl, matplotlib.pyplot as plt, seaborn, numpy as np, pandas as pd, scipy\n",
    "from matplotlib import cm\n",
    "from matplotlib.ticker import LinearLocator\n",
    "pd.options.plotting.backend = 'matplotlib'\n",
    "%matplotlib inline\n",
    "plt.style.use('seaborn-whitegrid')\n",
    "mpl.style.use('seaborn')\n",
    "plt.rcParams['font.family'] = 'Palatino Linotype'\n",
    "prop_cycle = plt.rcParams[\"axes.prop_cycle\"]\n",
    "colors = prop_cycle.by_key()[\"color\"]\n",
    "long_colors = ['#1f78b4','#a6cee3','#b2df8a','#33a02c','#fb9a99','#e31a1c','#fdbf6f','#ff7f00','#cab2d6','#6a3d9a','#ffff99','#b15928']"
   ]
  },
  {
   "cell_type": "markdown",
   "id": "c101148a-1479-413d-bc01-24bd9e6d861e",
   "metadata": {},
   "source": [
    "*Settings:*"
   ]
  },
  {
   "cell_type": "code",
   "execution_count": 3,
   "id": "3c3a1249-4e98-4bfa-ac00-964ebe8ae610",
   "metadata": {},
   "outputs": [],
   "source": [
    "repo = 'FunkyEUETS'\n",
    "d = {'main': f\"{os.getcwd().split(repo)[0]}{repo}\"}\n",
    "d.update({'py'  : os.path.join(d['main'],'py'),\n",
    "          'curr': os.getcwd()})\n",
    "os.chdir(d['py'])\n",
    "import egm\n",
    "os.chdir(d['curr'])"
   ]
  }
 ],
 "metadata": {
  "kernelspec": {
   "display_name": "Python 3 (ipykernel)",
   "language": "python",
   "name": "python3"
  },
  "language_info": {
   "codemirror_mode": {
    "name": "ipython",
    "version": 3
   },
   "file_extension": ".py",
   "mimetype": "text/x-python",
   "name": "python",
   "nbconvert_exporter": "python",
   "pygments_lexer": "ipython3",
   "version": "3.9.7"
  }
 },
 "nbformat": 4,
 "nbformat_minor": 5
}
